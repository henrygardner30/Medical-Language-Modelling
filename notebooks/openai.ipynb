{
 "cells": [
  {
   "cell_type": "markdown",
   "metadata": {},
   "source": [
    "# OpenAI Text Generation Model\n",
    "\n",
    "This will now explore the text generation capabilities of a model you can pay for through API access.\n",
    "\n",
    "The main goal here is to compare against the open-source models to see if there is a noticeable comparison."
   ]
  },
  {
   "cell_type": "markdown",
   "metadata": {},
   "source": [
    "First we need to install all the libraries for openai access."
   ]
  },
  {
   "cell_type": "code",
   "execution_count": 1,
   "metadata": {},
   "outputs": [
    {
     "name": "stdout",
     "output_type": "stream",
     "text": [
      "Defaulting to user installation because normal site-packages is not writeable\n",
      "Requirement already satisfied: openai in c:\\users\\henry\\appdata\\local\\packages\\pythonsoftwarefoundation.python.3.12_qbz5n2kfra8p0\\localcache\\local-packages\\python312\\site-packages (1.35.3)\n",
      "Requirement already satisfied: anyio<5,>=3.5.0 in c:\\users\\henry\\appdata\\local\\packages\\pythonsoftwarefoundation.python.3.12_qbz5n2kfra8p0\\localcache\\local-packages\\python312\\site-packages (from openai) (4.4.0)\n",
      "Requirement already satisfied: distro<2,>=1.7.0 in c:\\users\\henry\\appdata\\local\\packages\\pythonsoftwarefoundation.python.3.12_qbz5n2kfra8p0\\localcache\\local-packages\\python312\\site-packages (from openai) (1.9.0)\n",
      "Requirement already satisfied: httpx<1,>=0.23.0 in c:\\users\\henry\\appdata\\local\\packages\\pythonsoftwarefoundation.python.3.12_qbz5n2kfra8p0\\localcache\\local-packages\\python312\\site-packages (from openai) (0.27.0)\n",
      "Requirement already satisfied: pydantic<3,>=1.9.0 in c:\\users\\henry\\appdata\\local\\packages\\pythonsoftwarefoundation.python.3.12_qbz5n2kfra8p0\\localcache\\local-packages\\python312\\site-packages (from openai) (2.7.4)\n",
      "Requirement already satisfied: sniffio in c:\\users\\henry\\appdata\\local\\packages\\pythonsoftwarefoundation.python.3.12_qbz5n2kfra8p0\\localcache\\local-packages\\python312\\site-packages (from openai) (1.3.1)\n",
      "Requirement already satisfied: tqdm>4 in c:\\users\\henry\\appdata\\local\\packages\\pythonsoftwarefoundation.python.3.12_qbz5n2kfra8p0\\localcache\\local-packages\\python312\\site-packages (from openai) (4.66.4)\n",
      "Requirement already satisfied: typing-extensions<5,>=4.7 in c:\\users\\henry\\appdata\\local\\packages\\pythonsoftwarefoundation.python.3.12_qbz5n2kfra8p0\\localcache\\local-packages\\python312\\site-packages (from openai) (4.12.2)\n",
      "Requirement already satisfied: idna>=2.8 in c:\\users\\henry\\appdata\\local\\packages\\pythonsoftwarefoundation.python.3.12_qbz5n2kfra8p0\\localcache\\local-packages\\python312\\site-packages (from anyio<5,>=3.5.0->openai) (3.7)\n",
      "Requirement already satisfied: certifi in c:\\users\\henry\\appdata\\local\\packages\\pythonsoftwarefoundation.python.3.12_qbz5n2kfra8p0\\localcache\\local-packages\\python312\\site-packages (from httpx<1,>=0.23.0->openai) (2024.6.2)\n",
      "Requirement already satisfied: httpcore==1.* in c:\\users\\henry\\appdata\\local\\packages\\pythonsoftwarefoundation.python.3.12_qbz5n2kfra8p0\\localcache\\local-packages\\python312\\site-packages (from httpx<1,>=0.23.0->openai) (1.0.5)\n",
      "Requirement already satisfied: h11<0.15,>=0.13 in c:\\users\\henry\\appdata\\local\\packages\\pythonsoftwarefoundation.python.3.12_qbz5n2kfra8p0\\localcache\\local-packages\\python312\\site-packages (from httpcore==1.*->httpx<1,>=0.23.0->openai) (0.14.0)\n",
      "Requirement already satisfied: annotated-types>=0.4.0 in c:\\users\\henry\\appdata\\local\\packages\\pythonsoftwarefoundation.python.3.12_qbz5n2kfra8p0\\localcache\\local-packages\\python312\\site-packages (from pydantic<3,>=1.9.0->openai) (0.7.0)\n",
      "Requirement already satisfied: pydantic-core==2.18.4 in c:\\users\\henry\\appdata\\local\\packages\\pythonsoftwarefoundation.python.3.12_qbz5n2kfra8p0\\localcache\\local-packages\\python312\\site-packages (from pydantic<3,>=1.9.0->openai) (2.18.4)\n",
      "Requirement already satisfied: colorama in c:\\users\\henry\\appdata\\local\\packages\\pythonsoftwarefoundation.python.3.12_qbz5n2kfra8p0\\localcache\\local-packages\\python312\\site-packages (from tqdm>4->openai) (0.4.6)\n",
      "Note: you may need to restart the kernel to use updated packages.\n"
     ]
    },
    {
     "name": "stderr",
     "output_type": "stream",
     "text": [
      "\n",
      "[notice] A new release of pip is available: 24.1.1 -> 24.3.1\n",
      "[notice] To update, run: C:\\Users\\henry\\AppData\\Local\\Microsoft\\WindowsApps\\PythonSoftwareFoundation.Python.3.12_qbz5n2kfra8p0\\python.exe -m pip install --upgrade pip\n"
     ]
    },
    {
     "name": "stdout",
     "output_type": "stream",
     "text": [
      "Defaulting to user installation because normal site-packages is not writeable\n",
      "Requirement already satisfied: tiktoken in c:\\users\\henry\\appdata\\local\\packages\\pythonsoftwarefoundation.python.3.12_qbz5n2kfra8p0\\localcache\\local-packages\\python312\\site-packages (0.7.0)\n",
      "Requirement already satisfied: regex>=2022.1.18 in c:\\users\\henry\\appdata\\local\\packages\\pythonsoftwarefoundation.python.3.12_qbz5n2kfra8p0\\localcache\\local-packages\\python312\\site-packages (from tiktoken) (2024.5.15)\n",
      "Requirement already satisfied: requests>=2.26.0 in c:\\users\\henry\\appdata\\local\\packages\\pythonsoftwarefoundation.python.3.12_qbz5n2kfra8p0\\localcache\\local-packages\\python312\\site-packages (from tiktoken) (2.32.3)\n",
      "Requirement already satisfied: charset-normalizer<4,>=2 in c:\\users\\henry\\appdata\\local\\packages\\pythonsoftwarefoundation.python.3.12_qbz5n2kfra8p0\\localcache\\local-packages\\python312\\site-packages (from requests>=2.26.0->tiktoken) (3.3.2)\n",
      "Requirement already satisfied: idna<4,>=2.5 in c:\\users\\henry\\appdata\\local\\packages\\pythonsoftwarefoundation.python.3.12_qbz5n2kfra8p0\\localcache\\local-packages\\python312\\site-packages (from requests>=2.26.0->tiktoken) (3.7)\n",
      "Requirement already satisfied: urllib3<3,>=1.21.1 in c:\\users\\henry\\appdata\\local\\packages\\pythonsoftwarefoundation.python.3.12_qbz5n2kfra8p0\\localcache\\local-packages\\python312\\site-packages (from requests>=2.26.0->tiktoken) (2.2.2)\n",
      "Requirement already satisfied: certifi>=2017.4.17 in c:\\users\\henry\\appdata\\local\\packages\\pythonsoftwarefoundation.python.3.12_qbz5n2kfra8p0\\localcache\\local-packages\\python312\\site-packages (from requests>=2.26.0->tiktoken) (2024.6.2)\n",
      "Note: you may need to restart the kernel to use updated packages.\n"
     ]
    },
    {
     "name": "stderr",
     "output_type": "stream",
     "text": [
      "\n",
      "[notice] A new release of pip is available: 24.1.1 -> 24.3.1\n",
      "[notice] To update, run: C:\\Users\\henry\\AppData\\Local\\Microsoft\\WindowsApps\\PythonSoftwareFoundation.Python.3.12_qbz5n2kfra8p0\\python.exe -m pip install --upgrade pip\n"
     ]
    },
    {
     "name": "stdout",
     "output_type": "stream",
     "text": [
      "Note: you may need to restart the kernel to use updated packages.\n"
     ]
    },
    {
     "name": "stderr",
     "output_type": "stream",
     "text": [
      "\n",
      "[notice] A new release of pip is available: 24.1.1 -> 24.3.1\n",
      "[notice] To update, run: C:\\Users\\henry\\AppData\\Local\\Microsoft\\WindowsApps\\PythonSoftwareFoundation.Python.3.12_qbz5n2kfra8p0\\python.exe -m pip install --upgrade pip\n"
     ]
    }
   ],
   "source": [
    "# install the openai library\n",
    "%pip install openai\n",
    "\n",
    "# install token counter\n",
    "%pip install tiktoken\n",
    "\n",
    "%pip install evals --quiet"
   ]
  },
  {
   "cell_type": "code",
   "execution_count": 1,
   "metadata": {},
   "outputs": [],
   "source": [
    "import pandas as pd\n",
    "import numpy as np\n",
    "import json\n",
    "import re\n",
    "import os\n",
    "import random\n",
    "import requests\n",
    "from collections import defaultdict\n",
    "import base64\n",
    "import chardet\n",
    "import matplotlib.pyplot as plt\n",
    "# token counting:\n",
    "import tiktoken\n",
    "\n",
    "from openai import OpenAI"
   ]
  },
  {
   "cell_type": "markdown",
   "metadata": {},
   "source": [
    "As before lets load in the data, but this time we need to structure it differently for openai."
   ]
  },
  {
   "cell_type": "code",
   "execution_count": 2,
   "metadata": {},
   "outputs": [],
   "source": [
    "def load_and_prepare(file_path):\n",
    "    \"\"\"\n",
    "    Helper function to load in the data into a specific form \n",
    "\n",
    "    @PARAMS:\n",
    "        - file_path -> the file to process\n",
    "    \"\"\"\n",
    "    try:\n",
    "        with open(file_path, \"r\", encoding=\"utf-8\") as f:\n",
    "            data = json.load(f)\n",
    "        \n",
    "        # format data to be just question-answer pairs\n",
    "        formatted_data = []\n",
    "        for entry in data:\n",
    "            formatted_data.append({\n",
    "                \"question\": entry[\"Question\"],\n",
    "                \"response\": entry[\"Answer\"]\n",
    "            })\n",
    "        \n",
    "        print(f\"Loaded {len(formatted_data)} Q&A pairs from {file_path}!\")\n",
    "        return formatted_data\n",
    "        \n",
    "    except Exception as e:\n",
    "        print(f\"Error loading in file...\\n{e}\")\n",
    "        return []"
   ]
  },
  {
   "cell_type": "code",
   "execution_count": 3,
   "metadata": {},
   "outputs": [
    {
     "name": "stdout",
     "output_type": "stream",
     "text": [
      "Loaded 18749 Q&A pairs from processed_data/train.json!\n",
      "Loaded 2344 Q&A pairs from processed_data/validation.json!\n",
      "Loaded 2344 Q&A pairs from processed_data/test.json!\n",
      "{'question': 'will eating late evening meals increase my cholesterol?', 'response': 'no. it is what you are eating (as well as your genetics) not when you eat it. it depends on the kinds of foods that you eat. make sure that you are eating healthy foods in order to not gain great amount of cholesterol. you have to always watch what you eat in order to have a healthy skin and body. you may check out www. clearclinic. com for great ideas to achieve an acne free skin.'}\n",
      "{'question': 'who is affected by arthritis?', 'response': 'arthritis sufferers include men and women children and adults. approximately 350 million people worldwide have arthritis. nearly 40 million people in the united states are affected by arthritis including over a quarter million children! more than 27 million americans have osteoarthritis. approximately 1. 3 million americans suffer from rheumatoid arthritis. more than half of those with arthritis are under 65 years of age. nearly 60% of americans with arthritis are women.'}\n",
      "{'question': 'can i be pregnant if i had unprotected sex the 4th day of being on the depo?', 'response': 'yes you can. the depo will take about a month or two to take full effect. even then it is not 100% effective.'}\n"
     ]
    }
   ],
   "source": [
    "# load in formatted data\n",
    "## TRAIN ##\n",
    "train_data = load_and_prepare(\"processed_data/train.json\")\n",
    "\n",
    "## VAL ##\n",
    "val_data = load_and_prepare(\"processed_data/validation.json\")\n",
    "\n",
    "## TEST ##\n",
    "test_data = load_and_prepare(\"processed_data/test.json\")\n",
    "\n",
    "# print out one value of each to make sure it is loaded correctly\n",
    "print(train_data[0])\n",
    "print(val_data[0])\n",
    "print(test_data[0])"
   ]
  },
  {
   "cell_type": "markdown",
   "metadata": {},
   "source": [
    "### Generate training data\n",
    "\n",
    "Needs to be in openai's specific form."
   ]
  },
  {
   "cell_type": "code",
   "execution_count": null,
   "metadata": {},
   "outputs": [],
   "source": [
    "def generate_training_data(formatted_data):\n",
    "  \"\"\"\n",
    "  Function to generate the Chat-GPT fine-tuning training data.\n",
    "  @param:\n",
    "    - formatted_data -> training data specifically formatted for question/response type\n",
    "  \"\"\"\n",
    "  # convert to a df so we can shuffle and preserve randomness\n",
    "  formatted_data = pd.DataFrame(formatted_data)\n",
    "\n",
    "  # shuffle\n",
    "  formatted_data = formatted_data.sample(frac=1).reset_index(drop=True)\n",
    "  \n",
    "  # define different contexts to see if it helps the overall model\n",
    "  system_contexts = [\n",
    "      \"You are a medical expert trained on giving advice to patients that are in need of assistance.\",\n",
    "      \"You are an empathetic medical expert here to help with health concerns.\",\n",
    "      \"You are a medical expert particularly experienced with interacting with patients and guiding them through their concerns.\",\n",
    "      \"You are a medical expert tasked with conversing with patients and helping them discover solutions to their concerns.\"\n",
    "  ]\n",
    "\n",
    "  # write the training file\n",
    "  with open('processed_data/train.jsonl', 'w') as file:\n",
    "      for index, value in formatted_data.iterrows():\n",
    "          # grab the context based on the index\n",
    "          context = system_contexts[int(index / len(formatted_data) * len(system_contexts))]\n",
    "          \n",
    "          line = {\n",
    "              \"messages\": [\n",
    "                  {\"role\": \"system\", \"content\": context},\n",
    "                  {\"role\": \"user\", \"content\": value[\"question\"]},\n",
    "                  {\"role\": \"assistant\", \"content\": value[\"response\"]}\n",
    "              ]\n",
    "          }\n",
    "\n",
    "          # write the line to the file\n",
    "          json.dump(line, file)\n",
    "          file.write(\"\\n\")"
   ]
  },
  {
   "cell_type": "code",
   "execution_count": 8,
   "metadata": {},
   "outputs": [],
   "source": [
    "# get the training output file\n",
    "generate_training_data(train_data)"
   ]
  },
  {
   "cell_type": "code",
   "execution_count": null,
   "metadata": {},
   "outputs": [
    {
     "name": "stdout",
     "output_type": "stream",
     "text": [
      "*Training Data*\n",
      "Number of training values: 18749\n",
      "Example Entry:\n",
      "{'role': 'system', 'content': 'You are a medical expert trained on giving advice to patients that are in need of assistance.'}\n",
      "{'role': 'user', 'content': 'will exercising the vaginal muscles make my vagina tighter?'}\n",
      "{'role': 'assistant', 'content': \"two ultrasound studies of women who exercised their vaginal muscles did find that their muscles were thicker and stronger after pelvic floor muscle training. among women with urine leakage their thinner muscles became the thickness of healthy women's pelvic floor muscles. additionally they had less urine leakage -- whether the problem was from stress or urge types of incontinence. the use of vaginal cones and/or kegel exercises to increase muscle strength were both found to improve tone and decrease urine loss. while some of these studies did not measure vaginal tightness per se when muscle bulk is increased a woman can voluntarily contract those muscles to make the vaginal opening tighter.\"}\n"
     ]
    }
   ],
   "source": [
    "# load the data into a list of jsons\n",
    "with open('processed_data/train.jsonl', 'r', encoding='utf-8') as file:\n",
    "  data = [json.loads(line) for line in file]\n",
    "\n",
    "# give some basic ouptuts of our training file:\n",
    "print(f\"*Training Data*\\nNumber of training values: {len(data)}\\nExample Entry:\")\n",
    "for message in data[0]['messages']:\n",
    "  print(message)"
   ]
  },
  {
   "cell_type": "markdown",
   "metadata": {},
   "source": [
    "OpenAI is incredibly particular about there being no errors in the training data. Although I just generated it in the required form, I want to build a checking function in case I decide to re-use this on a different form of data."
   ]
  },
  {
   "cell_type": "code",
   "execution_count": 10,
   "metadata": {},
   "outputs": [],
   "source": [
    "def check_training_errors(data):\n",
    "  \"\"\"\n",
    "  Function to check the training data is in the right format.\n",
    "  @param:\n",
    "    - data -> the list of json training data\n",
    "\n",
    "  NOTE: for now, this function is redundant since the experiment data is already in the right form, but for the future\n",
    "  this function might be required to check arbitrary data.\n",
    "  \"\"\"\n",
    "  # create a dictionary with our corresponding errors\n",
    "  errors = defaultdict(int)\n",
    "  try:\n",
    "    # loop through all the training data and count errors\n",
    "    for line in data[:10]:\n",
    "      # MAKE SURE EACH LINE IS A DICTIONARY\n",
    "      if not type(line) is dict:\n",
    "          errors[\"data_type\"] += 1\n",
    "          continue\n",
    "      # split the current value into the messages it contains\n",
    "      messages = line.get(\"messages\", None)\n",
    "      # make sure a message exists\n",
    "      if not messages:\n",
    "          errors[\"missing_messages_list\"] += 1\n",
    "          continue\n",
    "      # loop through the messages in the data point and make sure it belongs to one of the expected groups\n",
    "      for message in messages:\n",
    "        # make sure the role and content exists in EACH message\n",
    "        if \"role\" not in message or \"content\" not in message:\n",
    "            errors[\"message_missing_key\"] += 1\n",
    "        # make sure the keys are recognized\n",
    "        if any(k not in (\"role\", \"content\", \"name\", \"function_call\", \"weight\") for k in message):\n",
    "            errors[\"message_unrecognized_key\"] += 1\n",
    "        # make sure the role is recognized\n",
    "        if message.get(\"role\", None) not in (\"system\", \"user\", \"assistant\", \"function\"):\n",
    "            errors[\"unrecognized_role\"] += 1\n",
    "\n",
    "        # get the content and function_call if it exists\n",
    "        content = message.get(\"content\", None)\n",
    "        function_call = message.get(\"function_call\", None)\n",
    "        # make sure there is content in this message\n",
    "        if (not content and not function_call) or not isinstance(content, str):\n",
    "            errors[\"missing_content\"] += 1\n",
    "        # make sure assistant is in any role\n",
    "        if not any(message.get(\"role\", None) == \"assistant\" for message in messages):\n",
    "            errors[\"example_missing_assistant_message\"] += 1\n",
    "    # if there are errors, output them\n",
    "    if errors:\n",
    "        print(\"Found errors:\")\n",
    "        for key, value in errors.items():\n",
    "            print(f\"{key}: {value}\")\n",
    "    # o/w print no errors\n",
    "    else:\n",
    "        print(\"No errors found\")\n",
    "  # error handling in case of unexpected error occuring in the loop\n",
    "  except Exception as e:\n",
    "    print(f\"Could not verify data format...\\n{e}\")"
   ]
  },
  {
   "cell_type": "code",
   "execution_count": 19,
   "metadata": {},
   "outputs": [
    {
     "name": "stdout",
     "output_type": "stream",
     "text": [
      "No errors found\n"
     ]
    }
   ],
   "source": [
    "# make sure we have no errors\n",
    "check_training_errors(data)"
   ]
  },
  {
   "cell_type": "markdown",
   "metadata": {},
   "source": [
    "Now lets get some metrics into the data we will be using as fine-tuning."
   ]
  },
  {
   "cell_type": "code",
   "execution_count": 11,
   "metadata": {},
   "outputs": [],
   "source": [
    "def count_tokens(messages, model=\"gpt-3.5-turbo\"):\n",
    "  \"\"\"\n",
    "  Function to count the number of tokens form a set of messages.\n",
    "\n",
    "  @params:\n",
    "    - messages -> the strings to count\n",
    "    - model    -> the Chat-GPT model (default gpt-3.5-turbo)\n",
    "  \"\"\"\n",
    "  # different models have different encodings, lets try and grab the encoding of the input model, if we can't get it, default to cl100k_base\n",
    "  try:\n",
    "    encoding = tiktoken.encoding_for_model(model)\n",
    "  except KeyError as e:\n",
    "    print(f\"Warning: model not found. Using cl100k_base encoding.\\n{e}\")\n",
    "    encoding = tiktoken.get_encoding(\"cl100k_base\")\n",
    "\n",
    "  # default values for tokens:\n",
    "  tokens_per_message = 3 # from {\"role\": \"system\"}, {\"role\": \"user\"}, {\"role\": \"assistant\"}\n",
    "  tokens_per_name = 1\n",
    "  token_count = 0\n",
    "  # go through each message and update the token count\n",
    "  for message in messages:\n",
    "    token_count += tokens_per_message\n",
    "    # update the token count for the encoding value of the content message\n",
    "    for key, value in message.items():\n",
    "      token_count += len(encoding.encode(value))\n",
    "      if key == \"name\":\n",
    "        token_count += tokens_per_name\n",
    "\n",
    "  # add 3 tokens for the response\n",
    "  token_count += 3\n",
    "  return token_count"
   ]
  },
  {
   "cell_type": "code",
   "execution_count": 12,
   "metadata": {},
   "outputs": [
    {
     "name": "stdout",
     "output_type": "stream",
     "text": [
      "Tokens per data point:\n",
      "min, max: 37, 1576\n",
      "mean, median: 199.41170195743774, 171.0\n",
      "\n",
      "Messages per data point:\n",
      "min, max: 3, 3\n",
      "mean, median: 3.0, 3.0\n"
     ]
    }
   ],
   "source": [
    "# lets output the token counts:\n",
    "n_tokens = []\n",
    "n_messages = []\n",
    "\n",
    "# loop through all the training data and get the statistics for the messages\n",
    "for line in data:\n",
    "  messages = line['messages']\n",
    "  n_messages.append(len(messages))\n",
    "  n_tokens.append(count_tokens(messages))\n",
    "\n",
    "### OUTPUT STATS\n",
    "print(\"Tokens per data point:\")\n",
    "print(f\"min, max: {min(n_tokens)}, {max(n_tokens)}\")\n",
    "print(f\"mean, median: {np.mean(n_tokens)}, {np.median(n_tokens)}\")\n",
    "print()\n",
    "print(\"Messages per data point:\")\n",
    "print(f\"min, max: {min(n_messages)}, {max(n_messages)}\")\n",
    "print(f\"mean, median: {np.mean(n_messages)}, {np.median(n_messages)}\")"
   ]
  },
  {
   "cell_type": "markdown",
   "metadata": {},
   "source": [
    "Now lets grab the API Key and run the model building!"
   ]
  },
  {
   "cell_type": "code",
   "execution_count": 4,
   "metadata": {},
   "outputs": [],
   "source": [
    "# read in the .env file\n",
    "with open(\"../.env\", \"r\") as f:\n",
    "    content = f.readlines()\n",
    "\n",
    "# extract the key from the first line\n",
    "line = content[0].strip()\n",
    "\n",
    "# pattern to capture key after '='\n",
    "pattern = r'API_KEY\\s*=\\s*(\\S+)'\n",
    "\n",
    "# assign key\n",
    "match = re.findall(pattern, line)\n",
    "\n",
    "if match:\n",
    "    API_KEY = match[0]\n",
    "else:\n",
    "    print(\"API_KEY not found!\")"
   ]
  },
  {
   "cell_type": "code",
   "execution_count": 5,
   "metadata": {},
   "outputs": [],
   "source": [
    "# first connect with the API_KEY we just generated\n",
    "client = OpenAI(api_key=API_KEY)"
   ]
  },
  {
   "cell_type": "markdown",
   "metadata": {},
   "source": [
    "Now lets develop a model that can help in viewing the model parameters and details."
   ]
  },
  {
   "cell_type": "code",
   "execution_count": 6,
   "metadata": {},
   "outputs": [],
   "source": [
    "class Model:\n",
    "  \"\"\"This class defines a Model with customized hyperparameters.\"\"\"\n",
    "  def __init__(self, n_epochs=None, learning_rate=None, batch_size=None, temperature=.2):\n",
    "    \"\"\"\n",
    "    Init parameters for a current OpenAI Model can change the epochs, learning rate, and batch size.\n",
    "    Once trained, you can edit the temperature. For now default it to a deterministic value of .2\n",
    "    \"\"\"\n",
    "    self.n_epochs = n_epochs\n",
    "    self.learning_rate = learning_rate\n",
    "    self.batch_size = batch_size\n",
    "    self.temperature = temperature\n",
    "    self.ID = \"\"\n",
    "    self.metrics_file = \"\"\n",
    "\n",
    "    # create a flag to see if this model is requesting hyperparameter changes:\n",
    "    if n_epochs or learning_rate or batch_size:\n",
    "      self.HYPERPARAMETERS = True\n",
    "    else:\n",
    "      self.HYPERPARAMETERS = False\n",
    "\n",
    "  def __str__(self):\n",
    "    \"\"\"String representation of the model object\"\"\"\n",
    "    return f\"Model ID: {self.ID}\\n\\nHyperparameters:\\n\\tEpochs: {self.n_epochs}\\n\\tLearning Rate: {self.learning_rate}\\n\\tBatch Size: {self.batch_size}\\n\"\n",
    "\n",
    "  def set_ID(self, ID):\n",
    "    \"\"\"\n",
    "    Function to set the OpenAI ID for the given model object.\n",
    "    @param:\n",
    "      - ID -> should be the ID of the model for example: ft:gpt-3.5-turbo-0125:nsmbl::9VycFKHK\n",
    "    \"\"\"\n",
    "    self.ID = ID\n",
    "\n",
    "  def set_metrics_file(self, file):\n",
    "    \"\"\"\n",
    "    Function to set the metrics file name for the given model object.\n",
    "    @param:\n",
    "      - file -> should be the resulting file from the training on the model\n",
    "    \"\"\"\n",
    "    self.metrics_file = file"
   ]
  },
  {
   "cell_type": "code",
   "execution_count": 7,
   "metadata": {},
   "outputs": [],
   "source": [
    "# initialize our baseline model with no hyperparameters\n",
    "baseline_fine_tuned_model = Model()"
   ]
  },
  {
   "cell_type": "code",
   "execution_count": 22,
   "metadata": {},
   "outputs": [
    {
     "data": {
      "text/plain": [
       "FileObject(id='file-Mu9JwLAh3jGiHAp6Buy9M35O', bytes=18849223, created_at=1732261149, filename='train.jsonl', object='file', purpose='fine-tune', status='processed', status_details=None)"
      ]
     },
     "execution_count": 22,
     "metadata": {},
     "output_type": "execute_result"
    }
   ],
   "source": [
    "# add the training file to the queue\n",
    "client.files.create(\n",
    "  file=open(\"train.jsonl\", \"rb\"),\n",
    "  purpose=\"fine-tune\"\n",
    ")"
   ]
  },
  {
   "cell_type": "markdown",
   "metadata": {},
   "source": [
    "Now we will run the fine-tuning experiment!!! For this, we will default to the auto parameters OpenAI will give us. The hyperparameters will be in the cell output."
   ]
  },
  {
   "cell_type": "code",
   "execution_count": 23,
   "metadata": {},
   "outputs": [
    {
     "data": {
      "text/plain": [
       "FineTuningJob(id='ftjob-q2v0M5wDwhtPyEYGaMdJk4BI', created_at=1732261193, error=Error(code=None, message=None, param=None), fine_tuned_model=None, finished_at=None, hyperparameters=Hyperparameters(n_epochs='auto', batch_size='auto', learning_rate_multiplier='auto'), model='gpt-3.5-turbo-0125', object='fine_tuning.job', organization_id='org-mYpLy7xJ1brMrOqq3sMVKxKN', result_files=[], seed=1703914644, status='validating_files', trained_tokens=None, training_file='file-Mu9JwLAh3jGiHAp6Buy9M35O', validation_file=None, estimated_finish=None, integrations=[], user_provided_suffix=None)"
      ]
     },
     "execution_count": 23,
     "metadata": {},
     "output_type": "execute_result"
    }
   ],
   "source": [
    "# create the fine-tuning job - hardcoding the file from the output above\n",
    "client.fine_tuning.jobs.create(\n",
    "  training_file=\"file-Mu9JwLAh3jGiHAp6Buy9M35O\",\n",
    "  model=\"gpt-3.5-turbo\",\n",
    ")"
   ]
  },
  {
   "cell_type": "markdown",
   "metadata": {},
   "source": [
    "List all fine-tuning jobs."
   ]
  },
  {
   "cell_type": "code",
   "execution_count": 8,
   "metadata": {},
   "outputs": [
    {
     "data": {
      "text/plain": [
       "SyncCursorPage[FineTuningJob](data=[FineTuningJob(id='ftjob-q2v0M5wDwhtPyEYGaMdJk4BI', created_at=1732261193, error=Error(code=None, message=None, param=None), fine_tuned_model='ft:gpt-3.5-turbo-0125:personal::AWJTxERx', finished_at=1732264748, hyperparameters=Hyperparameters(n_epochs=1, batch_size=12, learning_rate_multiplier=2), model='gpt-3.5-turbo-0125', object='fine_tuning.job', organization_id='org-mYpLy7xJ1brMrOqq3sMVKxKN', result_files=['file-KdQMELP5ieQxJVxWpUS59hYt'], seed=1703914644, status='succeeded', trained_tokens=3701272, training_file='file-Mu9JwLAh3jGiHAp6Buy9M35O', validation_file=None, estimated_finish=None, integrations=[], user_provided_suffix=None)], object='list', has_more=False)"
      ]
     },
     "execution_count": 8,
     "metadata": {},
     "output_type": "execute_result"
    }
   ],
   "source": [
    "client.fine_tuning.jobs.list()"
   ]
  },
  {
   "cell_type": "markdown",
   "metadata": {},
   "source": [
    "Output info on the baseline and the fine-tuned model."
   ]
  },
  {
   "cell_type": "code",
   "execution_count": 9,
   "metadata": {},
   "outputs": [
    {
     "name": "stdout",
     "output_type": "stream",
     "text": [
      "FineTuningJob(id='ftjob-q2v0M5wDwhtPyEYGaMdJk4BI', created_at=1732261193, error=Error(code=None, message=None, param=None), fine_tuned_model='ft:gpt-3.5-turbo-0125:personal::AWJTxERx', finished_at=1732264748, hyperparameters=Hyperparameters(n_epochs=1, batch_size=12, learning_rate_multiplier=2), model='gpt-3.5-turbo-0125', object='fine_tuning.job', organization_id='org-mYpLy7xJ1brMrOqq3sMVKxKN', result_files=['file-KdQMELP5ieQxJVxWpUS59hYt'], seed=1703914644, status='succeeded', trained_tokens=3701272, training_file='file-Mu9JwLAh3jGiHAp6Buy9M35O', validation_file=None, estimated_finish=None, integrations=[], user_provided_suffix=None) \n",
      "\n",
      "Model ID: ft:gpt-3.5-turbo-0125:personal::AWJTxERx\n",
      "\n",
      "Hyperparameters:\n",
      "\tEpochs: None\n",
      "\tLearning Rate: None\n",
      "\tBatch Size: None\n",
      "\n"
     ]
    }
   ],
   "source": [
    "fine_tuned_model = client.fine_tuning.jobs.retrieve('ftjob-q2v0M5wDwhtPyEYGaMdJk4BI')\n",
    "baseline_fine_tuned_model.set_ID(fine_tuned_model.fine_tuned_model)\n",
    "print(fine_tuned_model, \"\\n\")\n",
    "print(baseline_fine_tuned_model)"
   ]
  },
  {
   "cell_type": "markdown",
   "metadata": {},
   "source": [
    "Now we need to gather some results from these fine tuned models. Lets compare by taking 100 examples from the test set and building out a text document detailing their responses. This can later be used for evaluation."
   ]
  },
  {
   "cell_type": "code",
   "execution_count": 10,
   "metadata": {},
   "outputs": [],
   "source": [
    "# lets run the fine-tuned model against the baseline for the first 100 examples in the test set - doing this to save money!\n",
    "questions = [point['question'] for point in test_data[:100]]\n",
    "responses = [point['response'] for point in test_data[:100]]\n",
    "\n",
    "# write all output to a txt file for later analysis\n",
    "with open(\"openai_model_comparison.txt\", \"w\", encoding=\"utf-8\") as f:\n",
    "    for question, response in zip(questions, responses):\n",
    "        # setup system config\n",
    "        system_message = \"You are a medical expert helping patients talk through their concerns.\"\n",
    "        user_message = question\n",
    "        \n",
    "        # fine-tuned response\n",
    "        fine_tune_completion = client.chat.completions.create(\n",
    "            model=\"ft:gpt-3.5-turbo-0125:personal::AWJTxERx\",\n",
    "            messages=[\n",
    "                {\"role\": \"system\", \"content\": system_message},\n",
    "                {\"role\": \"user\", \"content\": user_message}\n",
    "            ]\n",
    "        )\n",
    "\n",
    "        # baseline response\n",
    "        baseline_completion = client.chat.completions.create(\n",
    "            model=\"gpt-3.5-turbo\",\n",
    "            messages=[\n",
    "                {\"role\": \"system\", \"content\": system_message},\n",
    "                {\"role\": \"user\", \"content\": user_message}\n",
    "            ]\n",
    "        )\n",
    "\n",
    "        # write all to the file!\n",
    "        f.write(f\"Question: {user_message}\\n\")\n",
    "        f.write(f\"Baseline Model Response: {baseline_completion.choices[0].message.content}\\n\")\n",
    "        f.write(f\"Fine-tuned Model Response: {fine_tune_completion.choices[0].message.content}\\n\")\n",
    "        f.write(f\"Expected Response: {response}\\n\")\n",
    "        # response seperator\n",
    "        f.write(\"=\" * 80 + \"\\n\")"
   ]
  },
  {
   "cell_type": "markdown",
   "metadata": {},
   "source": [
    "Lets grab the metrics file to see how the model tuned!"
   ]
  },
  {
   "cell_type": "code",
   "execution_count": null,
   "metadata": {},
   "outputs": [],
   "source": [
    "# use the requests library to access the fine-tuning metrics file, got the file ID from the output a few cells above\n",
    "response = requests.get(f'https://api.openai.com/v1/files/file-Mu9JwLAh3jGiHAp6Buy9M35O/content', headers={'Authorization': f'Bearer {API_KEY}'})\n",
    "if response.status_code == 200:\n",
    "  content = base64.b64decode(response.content)\n",
    "  with open(\"fine-tuning-metrics.csv\", \"wb\") as f:\n",
    "    f.write(response.content)\n",
    "else:\n",
    "  print(\"Cannot download file...\")"
   ]
  },
  {
   "cell_type": "markdown",
   "metadata": {},
   "source": [
    "We can now visualize these metrics."
   ]
  },
  {
   "cell_type": "code",
   "execution_count": 54,
   "metadata": {},
   "outputs": [],
   "source": [
    "def graph_model_metrics(file):\n",
    "  \"\"\"\n",
    "  Function to graph a .csv metrics file retrieved from an OpenAI fine-tuning experiment.\n",
    "  @param:\n",
    "    - file - the .csv file converted from the request response in OpenAI\n",
    "  \"\"\"\n",
    "  try:\n",
    "    # detect encoding\n",
    "    with open(file, \"rb\") as f:\n",
    "      raw_data = f.read()\n",
    "      result = chardet.detect(raw_data)\n",
    "      encoding = result[\"encoding\"]\n",
    "    # convert to dataframe for ease in accesing for matplotlib\n",
    "    df = pd.read_csv(file, encoding=encoding)\n",
    "    # loop through all the metrics columns starting after the step column\n",
    "    for col in df.columns[1:]:\n",
    "      # only output the columns that have values\n",
    "      if df[col].isna().any():\n",
    "        print(f\"Skipping metrics graph for {col} as there are null values...\")\n",
    "      else:\n",
    "        plt.figure(figsize=(10,5))\n",
    "        plt.plot(df['step'], df[col])\n",
    "        plt.axhline(y=df[col].mean(), color=\"red\", label=\"Mean\")\n",
    "        plt.axhline(y=df[col].median(), color=\"green\", label=\"Median\")\n",
    "        plt.title(col)\n",
    "        plt.legend()\n",
    "        plt.show()\n",
    "\n",
    "  except Exception as e:\n",
    "    raise Exception(f\"Cannot parse metrics file...\\n\\n{e}\")"
   ]
  },
  {
   "cell_type": "code",
   "execution_count": 55,
   "metadata": {},
   "outputs": [],
   "source": [
    "def get_fine_tune_metrics(client, API_KEY, models):\n",
    "  \"\"\"\n",
    "  Function to analyze metrics off already-trained models.\n",
    "  @params:\n",
    "    client  -> established OpenAI API Connection\n",
    "    API_KEY -> OpenAI api key to connect to the client, needed for the http request\n",
    "    models  -> list of pre-trained models\n",
    "  \"\"\"\n",
    "  try:\n",
    "    # loop through the list of models and try to request the metrics file from the previous generalization function\n",
    "    for index, model in enumerate(models):\n",
    "      # use the requests library to access the fine-tuning metrics file, got the file ID from the output a few cells above\n",
    "      response = requests.get(f'https://api.openai.com/v1/files/{model.metrics_file}/content', headers={'Authorization': f'Bearer {API_KEY}'})\n",
    "      if response.status_code == 200:\n",
    "        content = base64.b64decode(response.content)\n",
    "        # generate the .csv file data for each of the models\n",
    "        with open(f\"fine-tuning-metrics={model.metrics_file}.csv\", \"wb\") as f:\n",
    "          f.write(content)\n",
    "        f.close()\n",
    "        print(f\"Metric output for model:\\n{str(model)}\\n\\n\")\n",
    "        # now graph the outputs\n",
    "        graph_model_metrics(f\"fine-tuning-metrics={model.metrics_file}.csv\")\n",
    "        # add spacing\n",
    "        print()\n",
    "      else:\n",
    "        print(f\"Cannot download file: {model.metrics_file}...\")\n",
    "  except Exception as e:\n",
    "    raise(f\"Cannot parse metrics...\\n\\n{e}\")"
   ]
  },
  {
   "cell_type": "code",
   "execution_count": 56,
   "metadata": {},
   "outputs": [
    {
     "name": "stdout",
     "output_type": "stream",
     "text": [
      "Metric output for model:\n",
      "Model ID: ft:gpt-3.5-turbo-0125:personal::AWJTxERx\n",
      "\n",
      "Hyperparameters:\n",
      "\tEpochs: None\n",
      "\tLearning Rate: None\n",
      "\tBatch Size: None\n",
      "\n",
      "\n",
      "\n"
     ]
    },
    {
     "data": {
      "image/png": "[encoded data removed]",
      "text/plain": [
       "<Figure size 1000x500 with 1 Axes>"
      ]
     },
     "metadata": {},
     "output_type": "display_data"
    },
    {
     "data": {
      "image/png": "[encoded data removed]",
      "text/plain": [
       "<Figure size 1000x500 with 1 Axes>"
      ]
     },
     "metadata": {},
     "output_type": "display_data"
    },
    {
     "name": "stdout",
     "output_type": "stream",
     "text": [
      "Skipping metrics graph for valid_loss as there are null values...\n",
      "Skipping metrics graph for valid_mean_token_accuracy as there are null values...\n",
      "\n"
     ]
    }
   ],
   "source": [
    "baseline_fine_tuned_model.set_metrics_file(\"file-KdQMELP5ieQxJVxWpUS59hYt\")\n",
    "get_fine_tune_metrics(client, API_KEY, [baseline_fine_tuned_model])"
   ]
  },
  {
   "cell_type": "markdown",
   "metadata": {},
   "source": [
    "### Future Use\n",
    "\n",
    "This function below runs an experiment of fine-tuning multiple models with the same dataset, where you can specify specific hyperparameters. Due to this just being a class project, I will stick to the model with the parameters OpenAI default picked for me to save money, but for future use, I will come back to this!"
   ]
  },
  {
   "cell_type": "code",
   "execution_count": null,
   "metadata": {},
   "outputs": [],
   "source": [
    "def fine_tune(client, models, data, openAI_model):\n",
    "  \"\"\"\n",
    "  Function to fine-tune a list of models based on their desired hyperparameters.\n",
    "  @params:\n",
    "    client       -> established OpenAI API Connection\n",
    "    models       -> list of models generated with specific hyperparameters\n",
    "    data         -> the data to train each model on\n",
    "    openAI_model -> desired OpenAI model to re-train\n",
    "\n",
    "  NOTE: currently, this function only works for training each model on the same dataset.\n",
    "  \"\"\"\n",
    "  try:\n",
    "    # before the training, queue the data for training:\n",
    "    ID = client.files.create(\n",
    "      file=open(data, \"rb\"),\n",
    "      purpose=\"fine-tune\"\n",
    "    ).id\n",
    "    # create a dictionary with the parameter values for each model to make sure we are not training the same model twice\n",
    "    model_parameters = {i:\"\" for i in range(len(models))}\n",
    "    # perform the same api call for each model:\n",
    "    for index, model in enumerate(models):\n",
    "      # add to the dictionary the model parameters if it doesn't already exist\n",
    "      params = f\"n_epochs: {model.n_epochs}, learning_rate: {model.learning_rate}, batch_size:{model.batch_size}\"\n",
    "      # make sure this model has NOT been fine-tuned already, if so skip it\n",
    "      if params not in model_parameters.values():\n",
    "        model_parameters[index] = params\n",
    "        # if the hyperparameters were specified, note in the client call\n",
    "        if model.HYPERPARAMETERS:\n",
    "          # grab only the ones that are not None\n",
    "          hyperparameters = {}\n",
    "          if model.n_epochs:\n",
    "            hyperparameters[\"n_epochs\"] = model.n_epochs\n",
    "          if model.learning_rate:\n",
    "            hyperparameters[\"learning_rate\"] = model.learning_rate\n",
    "          if model.batch_size:\n",
    "            hyperparameters[\"batch_size\"] = model.batch_size\n",
    "\n",
    "          model_ID = client.fine_tuning.jobs.create(\n",
    "            training_file=ID,\n",
    "            model=openAI_model,\n",
    "            hyperparameters=hyperparameters\n",
    "          ).id\n",
    "        # if no hyperparemeters were requested, let OpenAI pick them\n",
    "        else:\n",
    "          model_ID = client.fine_tuning.jobs.create(\n",
    "            training_file=ID,\n",
    "            model=openAI_model,\n",
    "          ).id\n",
    "\n",
    "        # finally update the metrics file for this model\n",
    "        model.set_metrics_file(client.fine_tuning.jobs.retrieve(model_ID).id)\n",
    "    # output the current fine-tuning jobs, once this function completes access to the specified models is applicable\n",
    "    print(client.fine_tuning.jobs.list())\n",
    "    # for now, return the model parameters\n",
    "    return model_parameters\n",
    "  except Exception as e:\n",
    "    print(f\"Error, could not fine-tune on input parameters...\\n{e}\")\n"
   ]
  },
  {
   "cell_type": "markdown",
   "metadata": {},
   "source": [
    "Example of how to call the fine-tune job, even with just one model."
   ]
  },
  {
   "cell_type": "code",
   "execution_count": null,
   "metadata": {},
   "outputs": [],
   "source": [
    "m = Model(n_epochs=3)\n",
    "fine_tune(client, [m], \"train.jsonl\", \"gpt-3.5-turbo\")"
   ]
  }
 ],
 "metadata": {
  "kernelspec": {
   "display_name": "Python 3",
   "language": "python",
   "name": "python3"
  },
  "language_info": {
   "codemirror_mode": {
    "name": "ipython",
    "version": 3
   },
   "file_extension": ".py",
   "mimetype": "text/x-python",
   "name": "python",
   "nbconvert_exporter": "python",
   "pygments_lexer": "ipython3",
   "version": "3.12.7"
  }
 },
 "nbformat": 4,
 "nbformat_minor": 2
}
